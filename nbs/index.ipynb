{
 "cells": [
  {
   "cell_type": "markdown",
   "id": "6d5a41ce",
   "metadata": {},
   "source": [
    "# Getting Started"
   ]
  },
  {
   "cell_type": "code",
   "execution_count": 5,
   "id": "698b6b5e",
   "metadata": {},
   "outputs": [],
   "source": [
    "from fast_snippets import health_check, version"
   ]
  },
  {
   "cell_type": "code",
   "execution_count": 6,
   "id": "d667b4aa",
   "metadata": {},
   "outputs": [
    {
     "name": "stdout",
     "output_type": "stream",
     "text": [
      "The application is healthy!\n"
     ]
    }
   ],
   "source": [
    "health_check()"
   ]
  },
  {
   "cell_type": "code",
   "execution_count": 7,
   "id": "4427aa14",
   "metadata": {},
   "outputs": [
    {
     "name": "stdout",
     "output_type": "stream",
     "text": [
      "fast_snippets version: 0.1.0\n"
     ]
    }
   ],
   "source": [
    "version()"
   ]
  },
  {
   "cell_type": "markdown",
   "id": "e10c4287",
   "metadata": {},
   "source": [
    "You can also check out the CLI in by running\n",
    "\n",
    "```bash\n",
    "$ fs\n",
    "```"
   ]
  },
  {
   "cell_type": "code",
   "execution_count": null,
   "id": "c61cba9e",
   "metadata": {},
   "outputs": [
    {
     "name": "stdout",
     "output_type": "stream",
     "text": [
      "\u001b[1m                                                                                \u001b[0m\n",
      "\u001b[1m \u001b[0m\u001b[1;33mUsage: \u001b[0m\u001b[1mfs [OPTIONS] COMMAND [ARGS]...\u001b[0m\u001b[1m                                         \u001b[0m\u001b[1m \u001b[0m\n",
      "\u001b[1m                                                                                \u001b[0m\n",
      " Fast Snippets for Pytorch, Computer Vision, Deep Learning and Python in        \n",
      " General                                                                        \n",
      "                                                                                \n",
      "\u001b[2m╭─\u001b[0m\u001b[2m Options \u001b[0m\u001b[2m───────────────────────────────────────────────────────────────────\u001b[0m\u001b[2m─╮\u001b[0m\n",
      "\u001b[2m│\u001b[0m \u001b[1;36m-\u001b[0m\u001b[1;36m-install\u001b[0m\u001b[1;36m-completion\u001b[0m          Install completion for the current shell.      \u001b[2m│\u001b[0m\n",
      "\u001b[2m│\u001b[0m \u001b[1;36m-\u001b[0m\u001b[1;36m-show\u001b[0m\u001b[1;36m-completion\u001b[0m             Show completion for the current shell, to copy \u001b[2m│\u001b[0m\n",
      "\u001b[2m│\u001b[0m                               it or customize the installation.              \u001b[2m│\u001b[0m\n",
      "\u001b[2m│\u001b[0m \u001b[1;36m-\u001b[0m\u001b[1;36m-help\u001b[0m                        Show this message and exit.                    \u001b[2m│\u001b[0m\n",
      "\u001b[2m╰──────────────────────────────────────────────────────────────────────────────╯\u001b[0m\n",
      "\u001b[2m╭─\u001b[0m\u001b[2m Commands \u001b[0m\u001b[2m──────────────────────────────────────────────────────────────────\u001b[0m\u001b[2m─╮\u001b[0m\n",
      "\u001b[2m│\u001b[0m \u001b[1;36mhealth-check \u001b[0m\u001b[1;36m \u001b[0m Check the health of the application.                          \u001b[2m│\u001b[0m\n",
      "\u001b[2m│\u001b[0m \u001b[1;36mversion      \u001b[0m\u001b[1;36m \u001b[0m Print the version of the application.                         \u001b[2m│\u001b[0m\n",
      "\u001b[2m╰──────────────────────────────────────────────────────────────────────────────╯\u001b[0m\n"
     ]
    },
    {
     "data": {
      "text/plain": [
       "CompletedProcess(args=['/Users/yeshwanth/Code/Personal/fast_snippets/.venv/bin/fs'], returncode=2)"
      ]
     },
     "execution_count": 4,
     "metadata": {},
     "output_type": "execute_result"
    }
   ],
   "source": [
    "# | echo: false\n",
    "import subprocess\n",
    "\n",
    "subprocess.run([\"/Users/yeshwanth/Code/Personal/fast_snippets/.venv/bin/fs\"])"
   ]
  },
  {
   "cell_type": "markdown",
   "id": "22ed7001",
   "metadata": {},
   "source": [
    "\n",
    "in shell"
   ]
  },
  {
   "cell_type": "code",
   "execution_count": null,
   "id": "2d0d12fb",
   "metadata": {},
   "outputs": [],
   "source": []
  }
 ],
 "metadata": {
  "kernelspec": {
   "display_name": "yeshwanth (3.12.10)",
   "language": "python",
   "name": "python3"
  },
  "language_info": {
   "codemirror_mode": {
    "name": "ipython",
    "version": 3
   },
   "file_extension": ".py",
   "mimetype": "text/x-python",
   "name": "python",
   "nbconvert_exporter": "python",
   "pygments_lexer": "ipython3",
   "version": "3.12.10"
  }
 },
 "nbformat": 4,
 "nbformat_minor": 5
}
