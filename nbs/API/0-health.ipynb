{
 "cells": [
  {
   "cell_type": "markdown",
   "id": "e3532eb9",
   "metadata": {},
   "source": [
    "# Health Checks\n",
    "> A simple health check function to verify that the application is running correctly.\n",
    "\n",
    "- order: 1"
   ]
  },
  {
   "cell_type": "code",
   "execution_count": 1,
   "id": "47220228",
   "metadata": {},
   "outputs": [],
   "source": [
    "# | default_exp health"
   ]
  },
  {
   "cell_type": "code",
   "execution_count": 2,
   "id": "69bef08a",
   "metadata": {},
   "outputs": [],
   "source": [
    "# | export\n",
    "from fast_snippets.__pre_init__ import cli"
   ]
  },
  {
   "cell_type": "code",
   "execution_count": null,
   "id": "15ae5581",
   "metadata": {},
   "outputs": [],
   "source": [
    "# | export\n",
    "\n",
    "\n",
    "@cli.command()\n",
    "def health_check() -> None:\n",
    "    \"\"\"Check the health of the application.\"\"\"\n",
    "    # Here you can add more health checks, like checking database connections, etc.\n",
    "    # For example:\n",
    "    # if not check_database_connection():\n",
    "    #     print(\"Database connection is unhealthy!\")\n",
    "    # else:\n",
    "    #     print(\"Database connection is healthy!\")\n",
    "    print(\"The application is healthy!\")\n"
   ]
  },
  {
   "cell_type": "code",
   "execution_count": null,
   "id": "5585730c",
   "metadata": {},
   "outputs": [],
   "source": [
    "health_check()"
   ]
  },
  {
   "cell_type": "code",
   "execution_count": null,
   "id": "43ea66fe",
   "metadata": {},
   "outputs": [],
   "source": [
    "# | export\n",
    "@cli.command()\n",
    "def version() -> None:\n",
    "    \"\"\"Print the version of the application.\"\"\"\n",
    "    from fast_snippets import __version__\n",
    "\n",
    "    print(f\"fast_snippets version: {__version__}\")"
   ]
  },
  {
   "cell_type": "code",
   "execution_count": 4,
   "id": "57e828a6",
   "metadata": {},
   "outputs": [
    {
     "name": "stdout",
     "output_type": "stream",
     "text": [
      "fast_snippets version: 0.1.1\n"
     ]
    }
   ],
   "source": [
    "version()"
   ]
  },
  {
   "cell_type": "code",
   "execution_count": null,
   "id": "5905656a",
   "metadata": {},
   "outputs": [],
   "source": []
  }
 ],
 "metadata": {
  "kernelspec": {
   "display_name": "yeshwanth (3.12.10)",
   "language": "python",
   "name": "python3"
  },
  "language_info": {
   "codemirror_mode": {
    "name": "ipython",
    "version": 3
   },
   "file_extension": ".py",
   "mimetype": "text/x-python",
   "name": "python",
   "nbconvert_exporter": "python",
   "pygments_lexer": "ipython3",
   "version": "3.12.10"
  }
 },
 "nbformat": 4,
 "nbformat_minor": 5
}
