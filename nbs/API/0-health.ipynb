{
 "cells": [
  {
   "cell_type": "markdown",
   "id": "e3532eb9",
   "metadata": {},
   "source": [
    "# Health Checks\n",
    "> A simple health check function to verify that the application is running correctly.\n",
    "\n",
    "- order: 1"
   ]
  },
  {
   "cell_type": "code",
   "execution_count": null,
   "id": "47220228",
   "metadata": {},
   "outputs": [],
   "source": [
    "# | default_exp health"
   ]
  },
  {
   "cell_type": "code",
   "execution_count": null,
   "id": "69bef08a",
   "metadata": {},
   "outputs": [],
   "source": [
    "# | export\n",
    "from fast_snippets.__pre_init__ import cli"
   ]
  },
  {
   "cell_type": "code",
   "execution_count": null,
   "id": "15ae5581",
   "metadata": {},
   "outputs": [],
   "source": [
    "# | export\n",
    "\n",
    "\n",
    "@cli.command()\n",
    "def health_check() -> None:\n",
    "    \"\"\"Check the health of the application.\"\"\"\n",
    "    # Here you can add more health checks, like checking database connections, etc.\n",
    "    # For example:\n",
    "    # if not check_database_connection():\n",
    "    #     print(\"Database connection is unhealthy!\")\n",
    "    # else:\n",
    "    #     print(\"Database connection is healthy!\")\n",
    "    print(\"The application is healthy!\")\n",
    "\n",
    "\n",
    "@cli.command()\n",
    "def version() -> None:\n",
    "    \"\"\"Print the version of the application.\"\"\"\n",
    "    from . import __version__\n",
    "\n",
    "    print(f\"fast_snippets version: {__version__}\")"
   ]
  }
 ],
 "metadata": {
  "language_info": {
   "name": "python"
  }
 },
 "nbformat": 4,
 "nbformat_minor": 5
}
